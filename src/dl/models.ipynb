{
 "cells": [
  {
   "cell_type": "markdown",
   "metadata": {},
   "source": [
    "# Dependencies"
   ]
  },
  {
   "cell_type": "code",
   "execution_count": 3,
   "metadata": {
    "execution": {
     "iopub.execute_input": "2025-04-07T07:58:43.556302Z",
     "iopub.status.busy": "2025-04-07T07:58:43.555997Z",
     "iopub.status.idle": "2025-04-07T07:58:47.799453Z",
     "shell.execute_reply": "2025-04-07T07:58:47.798094Z",
     "shell.execute_reply.started": "2025-04-07T07:58:43.556281Z"
    },
    "trusted": true
   },
   "outputs": [],
   "source": [
    "!pip install -q datasets"
   ]
  },
  {
   "cell_type": "code",
   "execution_count": 4,
   "metadata": {
    "execution": {
     "iopub.execute_input": "2025-04-07T07:58:47.801389Z",
     "iopub.status.busy": "2025-04-07T07:58:47.801053Z",
     "iopub.status.idle": "2025-04-07T07:58:56.430239Z",
     "shell.execute_reply": "2025-04-07T07:58:56.429527Z",
     "shell.execute_reply.started": "2025-04-07T07:58:47.801359Z"
    },
    "trusted": true
   },
   "outputs": [],
   "source": [
    "import os\n",
    "import matplotlib.pyplot as plt\n",
    "import numpy as np\n",
    "import pandas as pd\n",
    "import csv\n",
    "import torch\n",
    "from datasets import load_dataset\n",
    "from torch.utils.data import Dataset, DataLoader\n",
    "from torch.nn.utils.rnn import pad_sequence\n",
    "import torch.nn as nn\n",
    "import torch.nn.functional as F\n",
    "import copy\n",
    "\n",
    "import spacy\n",
    "from tqdm import tqdm\n",
    "import re\n",
    "import string\n",
    "import seaborn as sns\n",
    "\n",
    "from sklearn.metrics import (\n",
    "    confusion_matrix,\n",
    "    accuracy_score,\n",
    "    precision_score,\n",
    "    recall_score,\n",
    "    f1_score\n",
    ")"
   ]
  },
  {
   "cell_type": "markdown",
   "metadata": {},
   "source": [
    "# Make dataset"
   ]
  },
  {
   "cell_type": "markdown",
   "metadata": {},
   "source": [
    "## Base Dataset"
   ]
  },
  {
   "cell_type": "code",
   "execution_count": 5,
   "metadata": {
    "execution": {
     "iopub.execute_input": "2025-04-07T07:58:56.431971Z",
     "iopub.status.busy": "2025-04-07T07:58:56.431514Z",
     "iopub.status.idle": "2025-04-07T07:59:00.165378Z",
     "shell.execute_reply": "2025-04-07T07:59:00.164487Z",
     "shell.execute_reply.started": "2025-04-07T07:58:56.431949Z"
    },
    "trusted": true
   },
   "outputs": [
    {
     "data": {
      "application/vnd.jupyter.widget-view+json": {
       "model_id": "524e62e8edec4cd9b9fb6272c3c9c9b1",
       "version_major": 2,
       "version_minor": 0
      },
      "text/plain": [
       "README.md:   0%|          | 0.00/5.27k [00:00<?, ?B/s]"
      ]
     },
     "metadata": {},
     "output_type": "display_data"
    },
    {
     "data": {
      "application/vnd.jupyter.widget-view+json": {
       "model_id": "2166f4483a224492bf931e6d5a573fab",
       "version_major": 2,
       "version_minor": 0
      },
      "text/plain": [
       "train-00000-of-00001.parquet:   0%|          | 0.00/3.11M [00:00<?, ?B/s]"
      ]
     },
     "metadata": {},
     "output_type": "display_data"
    },
    {
     "data": {
      "application/vnd.jupyter.widget-view+json": {
       "model_id": "de7b22e98cd54ab38950ec010cc5ba16",
       "version_major": 2,
       "version_minor": 0
      },
      "text/plain": [
       "validation-00000-of-00001.parquet:   0%|          | 0.00/72.8k [00:00<?, ?B/s]"
      ]
     },
     "metadata": {},
     "output_type": "display_data"
    },
    {
     "data": {
      "application/vnd.jupyter.widget-view+json": {
       "model_id": "ad68b8b5bb4b4c54872f875a29d780dc",
       "version_major": 2,
       "version_minor": 0
      },
      "text/plain": [
       "test-00000-of-00001.parquet:   0%|          | 0.00/148k [00:00<?, ?B/s]"
      ]
     },
     "metadata": {},
     "output_type": "display_data"
    },
    {
     "data": {
      "application/vnd.jupyter.widget-view+json": {
       "model_id": "8736f7440b304889a8480c70887bddf4",
       "version_major": 2,
       "version_minor": 0
      },
      "text/plain": [
       "Generating train split:   0%|          | 0/67349 [00:00<?, ? examples/s]"
      ]
     },
     "metadata": {},
     "output_type": "display_data"
    },
    {
     "data": {
      "application/vnd.jupyter.widget-view+json": {
       "model_id": "243b4b5c287f4535b0cc653bf1a6663b",
       "version_major": 2,
       "version_minor": 0
      },
      "text/plain": [
       "Generating validation split:   0%|          | 0/872 [00:00<?, ? examples/s]"
      ]
     },
     "metadata": {},
     "output_type": "display_data"
    },
    {
     "data": {
      "application/vnd.jupyter.widget-view+json": {
       "model_id": "bc4aad573cae4bbd94ec10a30b9268b2",
       "version_major": 2,
       "version_minor": 0
      },
      "text/plain": [
       "Generating test split:   0%|          | 0/1821 [00:00<?, ? examples/s]"
      ]
     },
     "metadata": {},
     "output_type": "display_data"
    }
   ],
   "source": [
    "data = load_dataset(\"stanfordnlp/sst2\")"
   ]
  },
  {
   "cell_type": "markdown",
   "metadata": {},
   "source": [
    "## Dataset Version 1"
   ]
  },
  {
   "cell_type": "code",
   "execution_count": 6,
   "metadata": {
    "execution": {
     "iopub.execute_input": "2025-04-07T07:59:00.166694Z",
     "iopub.status.busy": "2025-04-07T07:59:00.166406Z",
     "iopub.status.idle": "2025-04-07T07:59:07.028499Z",
     "shell.execute_reply": "2025-04-07T07:59:07.027844Z",
     "shell.execute_reply.started": "2025-04-07T07:59:00.166667Z"
    },
    "trusted": true
   },
   "outputs": [
    {
     "data": {
      "application/vnd.jupyter.widget-view+json": {
       "model_id": "4076e3751b6a4863b595a91bf6209746",
       "version_major": 2,
       "version_minor": 0
      },
      "text/plain": [
       "README.md:   0%|          | 0.00/521 [00:00<?, ?B/s]"
      ]
     },
     "metadata": {},
     "output_type": "display_data"
    },
    {
     "data": {
      "application/vnd.jupyter.widget-view+json": {
       "model_id": "7d4b7009ae764ca4bd5636207a9ed8dc",
       "version_major": 2,
       "version_minor": 0
      },
      "text/plain": [
       "sst2_train_orig.csv:   0%|          | 0.00/3.84M [00:00<?, ?B/s]"
      ]
     },
     "metadata": {},
     "output_type": "display_data"
    },
    {
     "data": {
      "application/vnd.jupyter.widget-view+json": {
       "model_id": "a438982326164cd7905b7151661c8583",
       "version_major": 2,
       "version_minor": 0
      },
      "text/plain": [
       "sst2_train_orig_eda.csv:   0%|          | 0.00/7.65M [00:00<?, ?B/s]"
      ]
     },
     "metadata": {},
     "output_type": "display_data"
    },
    {
     "data": {
      "application/vnd.jupyter.widget-view+json": {
       "model_id": "6ea88743662e4d53b7abf10dd2ef8603",
       "version_major": 2,
       "version_minor": 0
      },
      "text/plain": [
       "sst2_train_orig_eda_embedding.csv:   0%|          | 0.00/11.5M [00:00<?, ?B/s]"
      ]
     },
     "metadata": {},
     "output_type": "display_data"
    },
    {
     "data": {
      "application/vnd.jupyter.widget-view+json": {
       "model_id": "34f2aad7c39f4b18a0e1a220128af3d4",
       "version_major": 2,
       "version_minor": 0
      },
      "text/plain": [
       "(…)st2_train_orig_eda_embedding_wordnet.csv:   0%|          | 0.00/15.3M [00:00<?, ?B/s]"
      ]
     },
     "metadata": {},
     "output_type": "display_data"
    },
    {
     "data": {
      "application/vnd.jupyter.widget-view+json": {
       "model_id": "7db7b0e965ca487dabe16b5061d8e460",
       "version_major": 2,
       "version_minor": 0
      },
      "text/plain": [
       "sst2_val.csv:   0%|          | 0.00/95.9k [00:00<?, ?B/s]"
      ]
     },
     "metadata": {},
     "output_type": "display_data"
    },
    {
     "data": {
      "application/vnd.jupyter.widget-view+json": {
       "model_id": "1d41de7b5b9144b59823eae507aca438",
       "version_major": 2,
       "version_minor": 0
      },
      "text/plain": [
       "Generating train_orig split:   0%|          | 0/67349 [00:00<?, ? examples/s]"
      ]
     },
     "metadata": {},
     "output_type": "display_data"
    },
    {
     "data": {
      "application/vnd.jupyter.widget-view+json": {
       "model_id": "87b4f7a578fb4dcba9e8ed6d32f3be33",
       "version_major": 2,
       "version_minor": 0
      },
      "text/plain": [
       "Generating train_orig_eda split:   0%|          | 0/134698 [00:00<?, ? examples/s]"
      ]
     },
     "metadata": {},
     "output_type": "display_data"
    },
    {
     "data": {
      "application/vnd.jupyter.widget-view+json": {
       "model_id": "114cd23bc15d43b2b74938f590936c5a",
       "version_major": 2,
       "version_minor": 0
      },
      "text/plain": [
       "Generating train_orig_eda_embedding split:   0%|          | 0/202047 [00:00<?, ? examples/s]"
      ]
     },
     "metadata": {},
     "output_type": "display_data"
    },
    {
     "data": {
      "application/vnd.jupyter.widget-view+json": {
       "model_id": "1577dd02fd924a21b57a16d6e6ae7cae",
       "version_major": 2,
       "version_minor": 0
      },
      "text/plain": [
       "Generating train_orig_eda_embedding_wordnet split:   0%|          | 0/269394 [00:00<?, ? examples/s]"
      ]
     },
     "metadata": {},
     "output_type": "display_data"
    },
    {
     "data": {
      "application/vnd.jupyter.widget-view+json": {
       "model_id": "e0fef4c9691349a981cf1bb5260504d4",
       "version_major": 2,
       "version_minor": 0
      },
      "text/plain": [
       "Generating val split:   0%|          | 0/872 [00:00<?, ? examples/s]"
      ]
     },
     "metadata": {},
     "output_type": "display_data"
    }
   ],
   "source": [
    "new_data = load_dataset(\"aayya/sst2-augmented\")"
   ]
  },
  {
   "cell_type": "code",
   "execution_count": 7,
   "metadata": {
    "execution": {
     "iopub.execute_input": "2025-04-07T07:59:07.029469Z",
     "iopub.status.busy": "2025-04-07T07:59:07.029260Z",
     "iopub.status.idle": "2025-04-07T08:02:27.744243Z",
     "shell.execute_reply": "2025-04-07T08:02:27.743230Z",
     "shell.execute_reply.started": "2025-04-07T07:59:07.029449Z"
    },
    "trusted": true
   },
   "outputs": [
    {
     "name": "stdout",
     "output_type": "stream",
     "text": [
      "/kaggle/working\n",
      "--2025-04-07 07:59:07--  http://nlp.stanford.edu/data/glove.6B.zip\n",
      "Resolving nlp.stanford.edu (nlp.stanford.edu)... 171.64.67.140\n",
      "Connecting to nlp.stanford.edu (nlp.stanford.edu)|171.64.67.140|:80... connected.\n",
      "HTTP request sent, awaiting response... 302 Found\n",
      "Location: https://nlp.stanford.edu/data/glove.6B.zip [following]\n",
      "--2025-04-07 07:59:07--  https://nlp.stanford.edu/data/glove.6B.zip\n",
      "Connecting to nlp.stanford.edu (nlp.stanford.edu)|171.64.67.140|:443... connected.\n",
      "HTTP request sent, awaiting response... 301 Moved Permanently\n",
      "Location: https://downloads.cs.stanford.edu/nlp/data/glove.6B.zip [following]\n",
      "--2025-04-07 07:59:08--  https://downloads.cs.stanford.edu/nlp/data/glove.6B.zip\n",
      "Resolving downloads.cs.stanford.edu (downloads.cs.stanford.edu)... 171.64.64.22\n",
      "Connecting to downloads.cs.stanford.edu (downloads.cs.stanford.edu)|171.64.64.22|:443... connected.\n",
      "HTTP request sent, awaiting response... 200 OK\n",
      "Length: 862182613 (822M) [application/zip]\n",
      "Saving to: ‘glove.6B.zip’\n",
      "\n",
      "glove.6B.zip        100%[===================>] 822.24M  4.81MB/s    in 2m 58s  \n",
      "\n",
      "2025-04-07 08:02:06 (4.62 MB/s) - ‘glove.6B.zip’ saved [862182613/862182613]\n",
      "\n",
      "Archive:  glove.6B.zip\n",
      "  inflating: glove.6B.50d.txt        \n",
      "  inflating: glove.6B.100d.txt       \n",
      "  inflating: glove.6B.200d.txt       \n",
      "  inflating: glove.6B.300d.txt       \n"
     ]
    }
   ],
   "source": [
    "%cd /kaggle/working\n",
    "\n",
    "!wget http://nlp.stanford.edu/data/glove.6B.zip\n",
    "!unzip glove.6B.zip\n",
    "\n",
    "!rm /kaggle/working/glove.6B.200d.txt\n",
    "!rm /kaggle/working/glove.6B.100d.txt\n",
    "!rm /kaggle/working/glove.6B.50d.txt\n",
    "!rm /kaggle/working/glove.6B.zip"
   ]
  },
  {
   "cell_type": "code",
   "execution_count": 8,
   "metadata": {
    "execution": {
     "iopub.execute_input": "2025-04-07T08:02:27.745657Z",
     "iopub.status.busy": "2025-04-07T08:02:27.745353Z",
     "iopub.status.idle": "2025-04-07T08:02:27.756071Z",
     "shell.execute_reply": "2025-04-07T08:02:27.755352Z",
     "shell.execute_reply.started": "2025-04-07T08:02:27.745635Z"
    },
    "trusted": true
   },
   "outputs": [],
   "source": [
    "def load_glove(path):\n",
    "\n",
    "    words = pd.read_table(path, sep=\" \", index_col=0, header=None, quoting=csv.QUOTE_NONE)\n",
    "\n",
    "    embedding = words.values\n",
    "    words = words.index.to_numpy()\n",
    "\n",
    "    print(\"The embedding size is {}, and the number of words is {}\".format(embedding.shape[1], embedding.shape[0]))\n",
    "    return words, embedding\n",
    "\n",
    "\n",
    "def tokenize_data(dataset):\n",
    "    tokenizer = spacy.blank(\"en\")\n",
    "    data, labels = [], []\n",
    "    \n",
    "    for sample in dataset:\n",
    "        if not isinstance(sample[\"sentence\"], str) or \\\n",
    "           not isinstance(sample[\"label\"], int):\n",
    "            continue\n",
    "        sentence_sample = sample[\"sentence\"].strip().lower()\n",
    "\n",
    "        sentence = [token.text for token in tokenizer(sentence_sample)]\n",
    "        data.append(sentence)\n",
    "        labels.append(sample[\"label\"])\n",
    "\n",
    "    return data, torch.LongTensor(labels)\n",
    "\n",
    "\n",
    "def embedding_transform(vocab, words, embedding):\n",
    "    word_to_idx = vocab[1]\n",
    "    num_words = len(vocab[0])\n",
    "    embedding_size = embedding.shape[1]\n",
    "    transformed_embedding = np.zeros((num_words, embedding_size))\n",
    "\n",
    "    all_words_dict = {word: idx for idx, word in enumerate(words)}\n",
    "    unk_id = all_words_dict['unknown']\n",
    "\n",
    "    unknown_words = []\n",
    "    for token in word_to_idx.keys():         \n",
    "        idx = word_to_idx[token]\n",
    "        if idx == 0:\n",
    "            continue\n",
    "            \n",
    "        token_id = all_words_dict.get(token, -1)\n",
    "        \n",
    "        if token_id != -1:\n",
    "            transformed_embedding[idx,] = embedding[token_id,]\n",
    "        else:\n",
    "            transformed_embedding[idx,] = embedding[unk_id,]\n",
    "            unknown_words.append(token)\n",
    "\n",
    "    return torch.tensor(transformed_embedding, dtype=torch.float), unknown_words\n",
    "\n",
    "def build_vocab(data, min_freq=1):\n",
    "    \n",
    "    from collections import Counter\n",
    "    counter = Counter()\n",
    "    \n",
    "    for tokens in data:\n",
    "        counter.update(tokens)\n",
    "\n",
    "    words = [\"<pad>\", \"<unk>\"] + [word for word, freq in counter.items() if freq >= min_freq]\n",
    "    word2idx = {word: idx for idx, word in enumerate(words)}\n",
    "\n",
    "    return (words, word2idx)\n",
    "\n",
    "\n",
    "def data_indexing(data, word2idx):\n",
    "    indexed_data = []\n",
    "    \n",
    "    for sentence in data:\n",
    "        word_ids = torch.tensor([word2idx.get(token, 1) for token in sentence], \\\n",
    "                                dtype=torch.long)\n",
    "        indexed_data.append(word_ids)\n",
    "\n",
    "    return indexed_data"
   ]
  },
  {
   "cell_type": "code",
   "execution_count": 9,
   "metadata": {
    "execution": {
     "iopub.execute_input": "2025-04-07T08:02:27.757842Z",
     "iopub.status.busy": "2025-04-07T08:02:27.757646Z",
     "iopub.status.idle": "2025-04-07T08:02:28.848338Z",
     "shell.execute_reply": "2025-04-07T08:02:28.847516Z",
     "shell.execute_reply.started": "2025-04-07T08:02:27.757826Z"
    },
    "trusted": true
   },
   "outputs": [],
   "source": [
    "class MyDataset(Dataset):\n",
    "    def __init__(self, data, labels):\n",
    "        self.data = data\n",
    "        self.labels = labels\n",
    "\n",
    "    def __len__(self):\n",
    "        return len(self.labels)\n",
    "\n",
    "    def __getitem__(self, idx):\n",
    "        return self.data[idx], self.labels[idx]\n",
    "\n",
    "def collate_fn(batch):\n",
    "    inputs, labels = zip(*batch)\n",
    "\n",
    "    lengths = torch.tensor([len(seq) for seq in inputs])\n",
    "    sorted_idx = torch.argsort(lengths, descending=True)\n",
    "\n",
    "    inputs = [inputs[i] for i in sorted_idx]\n",
    "    labels = torch.tensor([labels[i] for i in sorted_idx])\n",
    "\n",
    "    inputs = pad_sequence(inputs, batch_first=True)\n",
    "\n",
    "    return inputs, labels, lengths[sorted_idx]\n",
    "    "
   ]
  },
  {
   "cell_type": "code",
   "execution_count": 52,
   "metadata": {
    "execution": {
     "iopub.execute_input": "2025-04-07T08:52:00.588850Z",
     "iopub.status.busy": "2025-04-07T08:52:00.588508Z",
     "iopub.status.idle": "2025-04-07T08:52:21.472633Z",
     "shell.execute_reply": "2025-04-07T08:52:21.471799Z",
     "shell.execute_reply.started": "2025-04-07T08:52:00.588823Z"
    },
    "trusted": true
   },
   "outputs": [
    {
     "name": "stdout",
     "output_type": "stream",
     "text": [
      "START CREATING DATASET...\n"
     ]
    },
    {
     "name": "stderr",
     "output_type": "stream",
     "text": [
      "/usr/local/lib/python3.10/dist-packages/spacy/util.py:1740: UserWarning: [W111] Jupyter notebook detected: if using `prefer_gpu()` or `require_gpu()`, include it in the same cell right before `spacy.load()` to ensure that the model is loaded on the correct device. More information: http://spacy.io/usage/v3#jupyter-notebook-gpu\n",
      "  warnings.warn(Warnings.W111)\n"
     ]
    },
    {
     "name": "stdout",
     "output_type": "stream",
     "text": [
      "SUCCESSFULLY LOADING DATASET!!!\n"
     ]
    }
   ],
   "source": [
    "# data transformation\n",
    "print(\"START CREATING DATASET...\")\n",
    "\n",
    "version_data = {0: \"train_orig\", \n",
    "                1: \"train_orig_eda\", \n",
    "                2: \"train_orig_eda_embedding\", \n",
    "                3: \"train_orig_eda_embedding_wordnet\"}\n",
    "\n",
    "train_data, train_labels = tokenize_data(new_data[version_data[3]])\n",
    "val_data, val_labels = tokenize_data(new_data[\"val\"])\n",
    "# test_data, test_labels = tokenize_data(data[\"test\"])\n",
    "print(\"SUCCESSFULLY LOADING DATASET!!!\")"
   ]
  },
  {
   "cell_type": "code",
   "execution_count": 53,
   "metadata": {
    "execution": {
     "iopub.execute_input": "2025-04-07T08:52:21.474256Z",
     "iopub.status.busy": "2025-04-07T08:52:21.473903Z",
     "iopub.status.idle": "2025-04-07T08:52:39.263027Z",
     "shell.execute_reply": "2025-04-07T08:52:39.262259Z",
     "shell.execute_reply.started": "2025-04-07T08:52:21.474223Z"
    },
    "trusted": true
   },
   "outputs": [
    {
     "name": "stdout",
     "output_type": "stream",
     "text": [
      "The embedding size is 300, and the number of words is 400000\n",
      "There are 1529 words out of the pre-trained vocabulary.\n"
     ]
    }
   ],
   "source": [
    "vocab = build_vocab(train_data)\n",
    "words, embedding = load_glove(path=\"/kaggle/working/glove.6B.300d.txt\")\n",
    "\n",
    "transformed_embedding, unknown_words = embedding_transform(vocab, words, embedding)\n",
    "print(\"There are {} words out of the pre-trained vocabulary.\".format(len(unknown_words)))"
   ]
  },
  {
   "cell_type": "code",
   "execution_count": 54,
   "metadata": {
    "execution": {
     "iopub.execute_input": "2025-04-07T08:52:39.264551Z",
     "iopub.status.busy": "2025-04-07T08:52:39.264306Z",
     "iopub.status.idle": "2025-04-07T08:52:41.677135Z",
     "shell.execute_reply": "2025-04-07T08:52:41.676411Z",
     "shell.execute_reply.started": "2025-04-07T08:52:39.264531Z"
    },
    "trusted": true
   },
   "outputs": [
    {
     "name": "stdout",
     "output_type": "stream",
     "text": [
      "DONE CREATING DATASET!!!\n",
      "\n"
     ]
    }
   ],
   "source": [
    "train_data = data_indexing(train_data, vocab[1])\n",
    "val_data = data_indexing(val_data, vocab[1])\n",
    "\n",
    "# build datasets\n",
    "train_dataset = MyDataset(train_data, train_labels)\n",
    "val_dataset = MyDataset(val_data, val_labels)\n",
    "\n",
    "# build dataloaders\n",
    "train_loader = DataLoader(train_dataset, batch_size=256, shuffle=True, drop_last=True, collate_fn=collate_fn)\n",
    "val_loader = DataLoader(val_dataset, batch_size=256, shuffle=False, drop_last=True, collate_fn=collate_fn)\n",
    "print(\"DONE CREATING DATASET!!!\\n\")"
   ]
  },
  {
   "cell_type": "markdown",
   "metadata": {},
   "source": [
    "# Model Zoo"
   ]
  },
  {
   "cell_type": "markdown",
   "metadata": {},
   "source": [
    "## LSTM"
   ]
  },
  {
   "cell_type": "code",
   "execution_count": 13,
   "metadata": {
    "execution": {
     "iopub.execute_input": "2025-04-07T08:03:34.870966Z",
     "iopub.status.busy": "2025-04-07T08:03:34.870661Z",
     "iopub.status.idle": "2025-04-07T08:03:34.878933Z",
     "shell.execute_reply": "2025-04-07T08:03:34.878204Z",
     "shell.execute_reply.started": "2025-04-07T08:03:34.870944Z"
    },
    "trusted": true
   },
   "outputs": [],
   "source": [
    "class Attention(nn.Module):\n",
    "    def __init__(self, hidden_dim):\n",
    "        super().__init__()\n",
    "        \n",
    "        self.projection = nn.Sequential(\n",
    "            nn.Linear(hidden_dim, 64),\n",
    "            nn.ReLU(True),\n",
    "            nn.Linear(64, 1)\n",
    "        )\n",
    "\n",
    "    def forward(self, encoder_outputs):\n",
    "        energy = self.projection(encoder_outputs)\n",
    "        weights = F.softmax(energy.squeeze(-1), dim=1)\n",
    "        outputs = (encoder_outputs * weights.unsqueeze(-1)).sum(dim=1)\n",
    "        return outputs\n",
    "\n",
    "\n",
    "class LSTM(nn.Module):\n",
    "    def __init__(self, embedding, embed_size, vocab_size, hidden_dim, num_layers=2):\n",
    "        super(LSTM, self).__init__()\n",
    "\n",
    "        self.embedding = nn.Embedding(vocab_size, embed_size, padding_idx=0)\n",
    "        \n",
    "        if embedding != None:\n",
    "            self.embedding.weight = nn.Parameter(embedding)\n",
    "            self.embedding.weight.requires_grad = True\n",
    "\n",
    "        self.embed_size = embed_size\n",
    "        self.hidden_dim = hidden_dim\n",
    "        self.num_layers = num_layers\n",
    "\n",
    "        self.lstm = nn.LSTM(embed_size,\n",
    "                            hidden_dim,\n",
    "                            num_layers=num_layers,\n",
    "                            batch_first=True,\n",
    "                            dropout=0.1)\n",
    "        self.attention = Attention(hidden_dim)\n",
    "        self.fc = nn.Linear(hidden_dim, 1)\n",
    "\n",
    "    def forward(self, inputs, lengths):\n",
    "        embeds = self.embedding(inputs)\n",
    "\n",
    "        packed_emb = nn.utils.rnn.pack_padded_sequence(embeds, lengths, batch_first=True)\n",
    "        out, _ = self.lstm(packed_emb)\n",
    "        out, _ = nn.utils.rnn.pad_packed_sequence(out, batch_first=True)        \n",
    "        embedding = self.attention(out)\n",
    "        \n",
    "        outputs = self.fc(embedding)\n",
    "        \n",
    "        return outputs"
   ]
  },
  {
   "cell_type": "markdown",
   "metadata": {},
   "source": [
    "## RNN"
   ]
  },
  {
   "cell_type": "code",
   "execution_count": 14,
   "metadata": {
    "execution": {
     "iopub.execute_input": "2025-04-07T08:03:59.002967Z",
     "iopub.status.busy": "2025-04-07T08:03:59.002677Z",
     "iopub.status.idle": "2025-04-07T08:03:59.010519Z",
     "shell.execute_reply": "2025-04-07T08:03:59.009636Z",
     "shell.execute_reply.started": "2025-04-07T08:03:59.002945Z"
    },
    "trusted": true
   },
   "outputs": [],
   "source": [
    "class Attention(nn.Module):\n",
    "    def __init__(self, hidden_dim):\n",
    "        super().__init__()\n",
    "        \n",
    "        self.projection = nn.Sequential(\n",
    "            nn.Linear(hidden_dim, 64),\n",
    "            nn.ReLU(True),\n",
    "            nn.Linear(64, 1)\n",
    "        )\n",
    "\n",
    "    def forward(self, encoder_outputs):\n",
    "        energy = self.projection(encoder_outputs)\n",
    "        weights = F.softmax(energy.squeeze(-1), dim=1)\n",
    "        outputs = (encoder_outputs * weights.unsqueeze(-1)).sum(dim=1)\n",
    "        return outputs\n",
    "\n",
    "\n",
    "class RNN(nn.Module):\n",
    "    def __init__(self, embedding, embed_size, vocab_size, hidden_dim, num_layers=2):\n",
    "        super(RNN, self).__init__()\n",
    "\n",
    "        self.embedding = nn.Embedding(vocab_size, embed_size, padding_idx=0)\n",
    "        if embedding != None:\n",
    "            self.embedding.weight = nn.Parameter(embedding)\n",
    "            self.embedding.weight.requires_grad = True\n",
    "\n",
    "        self.embed_size = embed_size\n",
    "        self.hidden_dim = hidden_dim\n",
    "        self.num_layers = num_layers\n",
    "\n",
    "        self.rnn = nn.RNN(embed_size,\n",
    "                          hidden_dim,\n",
    "                          num_layers=num_layers,\n",
    "                          batch_first=True,\n",
    "                          dropout=0.1)\n",
    "        self.attention = Attention(hidden_dim)\n",
    "        self.fc = nn.Linear(hidden_dim, 1)\n",
    "\n",
    "    def forward(self, inputs, lengths):\n",
    "        embeds = self.embedding(inputs)\n",
    "\n",
    "        packed_emb = nn.utils.rnn.pack_padded_sequence(embeds, lengths, batch_first=True)\n",
    "        out, _ = self.rnn(packed_emb)\n",
    "        out, _ = nn.utils.rnn.pad_packed_sequence(out, batch_first=True)        \n",
    "        embedding = self.attention(out)\n",
    "        \n",
    "        outputs = self.fc(embedding)\n",
    "        \n",
    "        return outputs"
   ]
  },
  {
   "cell_type": "markdown",
   "metadata": {},
   "source": [
    "## ANN"
   ]
  },
  {
   "cell_type": "code",
   "execution_count": 15,
   "metadata": {
    "execution": {
     "iopub.execute_input": "2025-04-07T08:04:12.388598Z",
     "iopub.status.busy": "2025-04-07T08:04:12.388260Z",
     "iopub.status.idle": "2025-04-07T08:04:12.396318Z",
     "shell.execute_reply": "2025-04-07T08:04:12.395488Z",
     "shell.execute_reply.started": "2025-04-07T08:04:12.388572Z"
    },
    "trusted": true
   },
   "outputs": [],
   "source": [
    "class MLPBlock(nn.Module):\n",
    "    def __init__(self, input_dim, hidden_dim, output_dim):\n",
    "        super().__init__()\n",
    "        \n",
    "        self.fc1 = nn.Linear(input_dim, hidden_dim)\n",
    "        self.act1 = nn.ReLU()\n",
    "        self.norm1 = nn.LayerNorm(hidden_dim)\n",
    "        self.dropout1 = nn.Dropout(0.05)\n",
    "\n",
    "        self.fc2 = nn.Linear(hidden_dim, output_dim)\n",
    "        self.act2 = nn.ReLU()\n",
    "        self.norm2 = nn.LayerNorm(output_dim)\n",
    "        self.dropout2 = nn.Dropout(0.05)       \n",
    "\n",
    "    def forward(self, x):\n",
    "        x1 = self.dropout1(self.norm1(self.act1(self.fc1(x))))\n",
    "        \n",
    "        return self.dropout2(self.norm2(self.act2(self.fc2(x1))))\n",
    "\n",
    "class ANN(nn.Module):\n",
    "    def __init__(self, embedding, embed_size, vocab_size, hidden_dim, num_layers=5):\n",
    "        super().__init__()\n",
    "        \n",
    "        self.embedding = nn.Embedding(vocab_size, embed_size, padding_idx=0)\n",
    "        if embedding != None:\n",
    "            self.embedding.weight = nn.Parameter(embedding)\n",
    "            self.embedding.weight.requires_grad = True\n",
    "\n",
    "        self.first_hidden = nn.Linear(embed_size, hidden_dim)\n",
    "        \n",
    "        self.hidden_layers = nn.Sequential(*[\n",
    "            MLPBlock(hidden_dim, 2*hidden_dim, hidden_dim) for _ in range(num_layers)\n",
    "        ])\n",
    "\n",
    "        self.fc = nn.Linear(hidden_dim, 1)\n",
    "\n",
    "    def forward(self, inputs, lengths=None):\n",
    "        batch_size = inputs.size(0)\n",
    "        \n",
    "        embeds = self.embedding(inputs)\n",
    "        hidden_inp = self.first_hidden(embeds)\n",
    "        \n",
    "        output = self.fc(self.hidden_layers(hidden_inp)).view(batch_size, -1).sum(-1)\n",
    "\n",
    "        return output"
   ]
  },
  {
   "cell_type": "markdown",
   "metadata": {},
   "source": [
    "# Trainer"
   ]
  },
  {
   "cell_type": "code",
   "execution_count": 19,
   "metadata": {
    "execution": {
     "iopub.execute_input": "2025-04-07T08:13:01.769071Z",
     "iopub.status.busy": "2025-04-07T08:13:01.768744Z",
     "iopub.status.idle": "2025-04-07T08:13:01.783866Z",
     "shell.execute_reply": "2025-04-07T08:13:01.783088Z",
     "shell.execute_reply.started": "2025-04-07T08:13:01.769048Z"
    },
    "trusted": true
   },
   "outputs": [],
   "source": [
    "class Trainer():\n",
    "\n",
    "    def __init__(self, model_name, model, epochs, train_dataloader, val_dataloader, \n",
    "                 criterion, optimizer, lr_decay, lr_scheduler, device):\n",
    "\n",
    "        self.model_name = model_name\n",
    "        self.model = model\n",
    "        self.epochs = epochs\n",
    "        self.train_dataloader = train_dataloader\n",
    "        self.val_dataloader = val_dataloader\n",
    "        self.criterion = criterion\n",
    "        self.optimizer = optimizer\n",
    "        self.lr_decay = lr_decay\n",
    "        self.lr_scheduler = lr_scheduler\n",
    "        self.device = device\n",
    "\n",
    "        self.model.to(self.device)\n",
    "\n",
    "    def train(self):\n",
    "\n",
    "        trainable = sum(p.numel() for p in self.model.parameters() if p.requires_grad)\n",
    "        total = sum(param.numel() for param in self.model.parameters())\n",
    "        model_params = 'total parameters: {}, trainable parameters: {}'.format(total, trainable)\n",
    "        print(model_params)\n",
    "\n",
    "        for epoch in range(self.epochs):\n",
    "            self.model.train()\n",
    "            train_loss, val_loss = [], []\n",
    "\n",
    "            # training\n",
    "            for batch_data in tqdm(self.train_dataloader,\n",
    "                                   total=len(self.train_dataloader)):\n",
    "            \n",
    "                inputs = batch_data[0].to(self.device)\n",
    "                labels = batch_data[1].to(self.device)\n",
    "                lengths = batch_data[2]\n",
    "\n",
    "                self.optimizer.zero_grad()\n",
    "                outputs = self.model(inputs, lengths)\n",
    "                loss = self.criterion(outputs.view(-1), labels.float())\n",
    "                loss.backward()\n",
    "                self.optimizer.step()\n",
    "\n",
    "                train_loss.append(loss.item())\n",
    "\n",
    "            epoch_train_loss = np.mean(train_loss)        \n",
    "            precision, recall, f1 = self.multi_metrics_validate(self.val_dataloader)\n",
    "            \n",
    "            train_message = '[ Epoch {}, Train ] | Train-Loss:{:.5f} | Train-Acc:{:.5f} | Val-Acc:{:.5f} | Precision:{:.5f} | Recall:{:.5f} | F1-Score:{:.5f}' \\\n",
    "                                .format(epoch, \n",
    "                                        epoch_train_loss,\n",
    "                                        self.only_acc_validate(self.train_dataloader),\n",
    "                                        self.only_acc_validate(self.val_dataloader),\n",
    "                                        precision,\n",
    "                                        recall,\n",
    "                                        f1)\n",
    "            print(train_message)\n",
    "\n",
    "            if self.lr_decay:\n",
    "                self.lr_scheduler.step()\n",
    "\n",
    "            save_path = f\"{self.model_name}_e{epoch}.pt\"\n",
    "            torch.save(self.model.state_dict(), save_path)\n",
    "\n",
    "        print(\"End evaluating!!!\")\n",
    "\n",
    "    def batch_validate(self, preds, labels):\n",
    "        preds = torch.round(torch.sigmoid(preds.squeeze(-1)))\n",
    "        num_true_labels = (preds == labels).sum()\n",
    "\n",
    "        return num_true_labels / len(labels)\n",
    "\n",
    "    def round_preds(self, preds):\n",
    "        return torch.round(\n",
    "            torch.sigmoid(preds.squeeze(-1))\n",
    "        ).int()\n",
    "\n",
    "    def multi_metrics_validate(self, dataloader):\n",
    "        self.model.eval()\n",
    "        \n",
    "        all_labels, all_preds = [], []\n",
    "        \n",
    "        with torch.no_grad():\n",
    "            for batch_data in dataloader:\n",
    "                inputs = batch_data[0].to(self.device)\n",
    "                labels = batch_data[1].to(self.device)\n",
    "                lengths = batch_data[2]\n",
    "\n",
    "                preds = self.round_preds(self.model(inputs, lengths))\n",
    "\n",
    "                all_labels.extend(labels.tolist())\n",
    "                all_preds.extend(preds.tolist())\n",
    "\n",
    "        precision, recall, f1 = self.precision_recall_f1_validate(all_labels, all_preds)\n",
    "                        \n",
    "        return (precision, recall, f1)\n",
    "\n",
    "    def only_acc_validate(self, dataloader):\n",
    "        self.model.eval()\n",
    "        \n",
    "        val_acc = 0\n",
    "        all_labels, all_preds = [], []\n",
    "        \n",
    "        with torch.no_grad():\n",
    "            for batch_data in dataloader:\n",
    "                inputs = batch_data[0].to(self.device)\n",
    "                labels = batch_data[1].to(self.device)\n",
    "                lengths = batch_data[2]\n",
    "\n",
    "                preds = self.round_preds(self.model(inputs, lengths))\n",
    "\n",
    "                all_labels.extend(labels.tolist())\n",
    "                all_preds.extend(preds.tolist())\n",
    "                        \n",
    "        return self.batch_validate(torch.tensor(all_preds), torch.tensor(all_labels))\n",
    "\n",
    "    def confusion_mat_visualize(self, labels, preds):\n",
    "        conf_matrix = confusion_matrix(labels, preds)\n",
    "        \n",
    "        plt.figure(figsize=(7,6))\n",
    "        sns.set(font_scale = 1.5)\n",
    "         \n",
    "        ax = sns.heatmap(\n",
    "            conf_matrix,\n",
    "            annot=True,\n",
    "            fmt='d',\n",
    "            cbar_kws={\"shrink\": 0.8, \"aspect\": 30}\n",
    "        )\n",
    "         \n",
    "        ax.set_xlabel(\"Predicted\", labelpad=20)\n",
    "        ax.set_ylabel(\"Actual\", labelpad=20)\n",
    "        plt.show()\n",
    "\n",
    "    def precision_recall_f1_validate(self, labels, preds):\n",
    "        precision = precision_score(labels, preds)\n",
    "        recall = recall_score(labels, preds)\n",
    "        f1score = f1_score(labels, preds)\n",
    "         \n",
    "        return precision, recall, f1score"
   ]
  },
  {
   "cell_type": "markdown",
   "metadata": {},
   "source": [
    "# Training"
   ]
  },
  {
   "cell_type": "markdown",
   "metadata": {},
   "source": [
    "## ANN Training"
   ]
  },
  {
   "cell_type": "code",
   "execution_count": 55,
   "metadata": {
    "execution": {
     "iopub.execute_input": "2025-04-07T08:52:41.678170Z",
     "iopub.status.busy": "2025-04-07T08:52:41.677940Z",
     "iopub.status.idle": "2025-04-07T08:52:41.741061Z",
     "shell.execute_reply": "2025-04-07T08:52:41.740263Z",
     "shell.execute_reply.started": "2025-04-07T08:52:41.678141Z"
    },
    "trusted": true
   },
   "outputs": [
    {
     "name": "stderr",
     "output_type": "stream",
     "text": [
      "/usr/local/lib/python3.10/dist-packages/torch/optim/lr_scheduler.py:62: UserWarning: The verbose parameter is deprecated. Please use get_last_lr() to access the learning rate.\n",
      "  warnings.warn(\n"
     ]
    }
   ],
   "source": [
    "ann_model = ANN(None,\n",
    "                embed_size=transformed_embedding.size(1),\n",
    "                vocab_size=len(vocab[0]),\n",
    "                hidden_dim=256)\n",
    "\n",
    "optimizer = torch.optim.Adam(ann_model.parameters(), lr=5e-5, weight_decay=4e-5)\n",
    "\n",
    "device = torch.device(\"cuda\" if torch.cuda.is_available() else \"cpu\")\n",
    "criterion = torch.nn.BCEWithLogitsLoss().to(device)\n",
    "lr_scheduler = torch.optim.lr_scheduler.StepLR(optimizer, \n",
    "                                               step_size=8, \n",
    "                                               gamma=0.5, \n",
    "                                               verbose=True)\n",
    "epochs, lr_decay = 10, True"
   ]
  },
  {
   "cell_type": "code",
   "execution_count": 56,
   "metadata": {
    "execution": {
     "iopub.execute_input": "2025-04-07T08:52:41.742234Z",
     "iopub.status.busy": "2025-04-07T08:52:41.741917Z",
     "iopub.status.idle": "2025-04-07T08:59:38.952063Z",
     "shell.execute_reply": "2025-04-07T08:59:38.951212Z",
     "shell.execute_reply.started": "2025-04-07T08:52:41.742204Z"
    },
    "trusted": true
   },
   "outputs": [
    {
     "name": "stdout",
     "output_type": "stream",
     "text": [
      "total parameters: 9033053, trainable parameters: 9033053\n"
     ]
    },
    {
     "name": "stderr",
     "output_type": "stream",
     "text": [
      "100%|██████████| 1052/1052 [00:30<00:00, 34.48it/s]\n"
     ]
    },
    {
     "name": "stdout",
     "output_type": "stream",
     "text": [
      "[ Epoch 0, Train ] | Train-Loss:0.78378 | Train-Acc:0.80019 | Val-Acc:0.79427 | Precision:0.79897 | Recall:0.79487 | F1-Score:0.79692\n"
     ]
    },
    {
     "name": "stderr",
     "output_type": "stream",
     "text": [
      "100%|██████████| 1052/1052 [00:30<00:00, 34.62it/s]\n"
     ]
    },
    {
     "name": "stdout",
     "output_type": "stream",
     "text": [
      "[ Epoch 1, Train ] | Train-Loss:0.50440 | Train-Acc:0.85234 | Val-Acc:0.79688 | Precision:0.78818 | Recall:0.82051 | F1-Score:0.80402\n"
     ]
    },
    {
     "name": "stderr",
     "output_type": "stream",
     "text": [
      "100%|██████████| 1052/1052 [00:30<00:00, 34.58it/s]\n"
     ]
    },
    {
     "name": "stdout",
     "output_type": "stream",
     "text": [
      "[ Epoch 2, Train ] | Train-Loss:0.41204 | Train-Acc:0.87535 | Val-Acc:0.79948 | Precision:0.78922 | Recall:0.82564 | F1-Score:0.80702\n"
     ]
    },
    {
     "name": "stderr",
     "output_type": "stream",
     "text": [
      "100%|██████████| 1052/1052 [00:30<00:00, 34.63it/s]\n"
     ]
    },
    {
     "name": "stdout",
     "output_type": "stream",
     "text": [
      "[ Epoch 3, Train ] | Train-Loss:0.35614 | Train-Acc:0.89474 | Val-Acc:0.79688 | Precision:0.75885 | Recall:0.87949 | F1-Score:0.81473\n"
     ]
    },
    {
     "name": "stderr",
     "output_type": "stream",
     "text": [
      "100%|██████████| 1052/1052 [00:30<00:00, 34.58it/s]\n"
     ]
    },
    {
     "name": "stdout",
     "output_type": "stream",
     "text": [
      "[ Epoch 4, Train ] | Train-Loss:0.31653 | Train-Acc:0.90735 | Val-Acc:0.80599 | Precision:0.77958 | Recall:0.86154 | F1-Score:0.81851\n"
     ]
    },
    {
     "name": "stderr",
     "output_type": "stream",
     "text": [
      "100%|██████████| 1052/1052 [00:30<00:00, 34.74it/s]\n"
     ]
    },
    {
     "name": "stdout",
     "output_type": "stream",
     "text": [
      "[ Epoch 5, Train ] | Train-Loss:0.29098 | Train-Acc:0.91391 | Val-Acc:0.81250 | Precision:0.79009 | Recall:0.85897 | F1-Score:0.82310\n"
     ]
    },
    {
     "name": "stderr",
     "output_type": "stream",
     "text": [
      "100%|██████████| 1052/1052 [00:30<00:00, 34.61it/s]\n"
     ]
    },
    {
     "name": "stdout",
     "output_type": "stream",
     "text": [
      "[ Epoch 6, Train ] | Train-Loss:0.27061 | Train-Acc:0.92036 | Val-Acc:0.79818 | Precision:0.76765 | Recall:0.86410 | F1-Score:0.81303\n"
     ]
    },
    {
     "name": "stderr",
     "output_type": "stream",
     "text": [
      "100%|██████████| 1052/1052 [00:30<00:00, 34.68it/s]\n"
     ]
    },
    {
     "name": "stdout",
     "output_type": "stream",
     "text": [
      "[ Epoch 7, Train ] | Train-Loss:0.25341 | Train-Acc:0.92357 | Val-Acc:0.79297 | Precision:0.74839 | Recall:0.89231 | F1-Score:0.81404\n"
     ]
    },
    {
     "name": "stderr",
     "output_type": "stream",
     "text": [
      "100%|██████████| 1052/1052 [00:30<00:00, 34.67it/s]\n"
     ]
    },
    {
     "name": "stdout",
     "output_type": "stream",
     "text": [
      "[ Epoch 8, Train ] | Train-Loss:0.23443 | Train-Acc:0.92799 | Val-Acc:0.78255 | Precision:0.73375 | Recall:0.89744 | F1-Score:0.80738\n"
     ]
    },
    {
     "name": "stderr",
     "output_type": "stream",
     "text": [
      "100%|██████████| 1052/1052 [00:30<00:00, 34.70it/s]\n"
     ]
    },
    {
     "name": "stdout",
     "output_type": "stream",
     "text": [
      "[ Epoch 9, Train ] | Train-Loss:0.22587 | Train-Acc:0.93007 | Val-Acc:0.78255 | Precision:0.73673 | Recall:0.88974 | F1-Score:0.80604\n",
      "End evaluating!!!\n"
     ]
    }
   ],
   "source": [
    "trainer = Trainer(model_name=\"ann\",\n",
    "                  model=ann_model,\n",
    "                  epochs=epochs,\n",
    "                  train_dataloader=train_loader,\n",
    "                  val_dataloader=val_loader,\n",
    "                  criterion=criterion,\n",
    "                  optimizer=optimizer,\n",
    "                  lr_decay=lr_decay,\n",
    "                  lr_scheduler=lr_scheduler,\n",
    "                  device=device)\n",
    "\n",
    "trainer.train()"
   ]
  },
  {
   "cell_type": "markdown",
   "metadata": {},
   "source": [
    "## RNN Training"
   ]
  },
  {
   "cell_type": "code",
   "execution_count": 57,
   "metadata": {
    "execution": {
     "iopub.execute_input": "2025-04-07T08:59:38.953577Z",
     "iopub.status.busy": "2025-04-07T08:59:38.953352Z",
     "iopub.status.idle": "2025-04-07T08:59:39.009455Z",
     "shell.execute_reply": "2025-04-07T08:59:39.008640Z",
     "shell.execute_reply.started": "2025-04-07T08:59:38.953558Z"
    },
    "trusted": true
   },
   "outputs": [
    {
     "name": "stderr",
     "output_type": "stream",
     "text": [
      "/usr/local/lib/python3.10/dist-packages/torch/optim/lr_scheduler.py:62: UserWarning: The verbose parameter is deprecated. Please use get_last_lr() to access the learning rate.\n",
      "  warnings.warn(\n"
     ]
    }
   ],
   "source": [
    "rnn_model = RNN(None,\n",
    "                embed_size=transformed_embedding.size(1),\n",
    "                vocab_size=len(vocab[0]),\n",
    "                hidden_dim=256)\n",
    "\n",
    "optimizer = torch.optim.Adam(rnn_model.parameters(), lr=5e-5, weight_decay=4e-5)\n",
    "\n",
    "device = torch.device(\"cuda\" if torch.cuda.is_available() else \"cpu\")\n",
    "criterion = torch.nn.BCEWithLogitsLoss().to(device)\n",
    "lr_scheduler = torch.optim.lr_scheduler.StepLR(optimizer, \n",
    "                                               step_size=8, \n",
    "                                               gamma=0.5, \n",
    "                                               verbose=True)\n",
    "epochs, lr_decay = 10, True"
   ]
  },
  {
   "cell_type": "code",
   "execution_count": 58,
   "metadata": {
    "execution": {
     "iopub.execute_input": "2025-04-07T08:59:39.011020Z",
     "iopub.status.busy": "2025-04-07T08:59:39.010690Z",
     "iopub.status.idle": "2025-04-07T09:03:34.225606Z",
     "shell.execute_reply": "2025-04-07T09:03:34.224613Z",
     "shell.execute_reply.started": "2025-04-07T08:59:39.010995Z"
    },
    "trusted": true
   },
   "outputs": [
    {
     "name": "stdout",
     "output_type": "stream",
     "text": [
      "total parameters: 7924702, trainable parameters: 7924702\n"
     ]
    },
    {
     "name": "stderr",
     "output_type": "stream",
     "text": [
      "100%|██████████| 1052/1052 [00:16<00:00, 62.44it/s]\n"
     ]
    },
    {
     "name": "stdout",
     "output_type": "stream",
     "text": [
      "[ Epoch 0, Train ] | Train-Loss:0.62108 | Train-Acc:0.69556 | Val-Acc:0.68750 | Precision:0.67281 | Recall:0.74872 | F1-Score:0.70874\n"
     ]
    },
    {
     "name": "stderr",
     "output_type": "stream",
     "text": [
      "100%|██████████| 1052/1052 [00:16<00:00, 62.82it/s]\n"
     ]
    },
    {
     "name": "stdout",
     "output_type": "stream",
     "text": [
      "[ Epoch 1, Train ] | Train-Loss:0.52154 | Train-Acc:0.76827 | Val-Acc:0.74089 | Precision:0.72055 | Recall:0.80000 | F1-Score:0.75820\n"
     ]
    },
    {
     "name": "stderr",
     "output_type": "stream",
     "text": [
      "100%|██████████| 1052/1052 [00:16<00:00, 62.71it/s]\n"
     ]
    },
    {
     "name": "stdout",
     "output_type": "stream",
     "text": [
      "[ Epoch 2, Train ] | Train-Loss:0.43226 | Train-Acc:0.80409 | Val-Acc:0.74609 | Precision:0.75194 | Recall:0.74615 | F1-Score:0.74903\n"
     ]
    },
    {
     "name": "stderr",
     "output_type": "stream",
     "text": [
      "100%|██████████| 1052/1052 [00:16<00:00, 62.56it/s]\n"
     ]
    },
    {
     "name": "stdout",
     "output_type": "stream",
     "text": [
      "[ Epoch 3, Train ] | Train-Loss:0.38248 | Train-Acc:0.82721 | Val-Acc:0.74219 | Precision:0.70513 | Recall:0.84615 | F1-Score:0.76923\n"
     ]
    },
    {
     "name": "stderr",
     "output_type": "stream",
     "text": [
      "100%|██████████| 1052/1052 [00:16<00:00, 62.76it/s]\n"
     ]
    },
    {
     "name": "stdout",
     "output_type": "stream",
     "text": [
      "[ Epoch 4, Train ] | Train-Loss:0.34863 | Train-Acc:0.84413 | Val-Acc:0.75000 | Precision:0.71336 | Recall:0.84872 | F1-Score:0.77518\n"
     ]
    },
    {
     "name": "stderr",
     "output_type": "stream",
     "text": [
      "100%|██████████| 1052/1052 [00:16<00:00, 62.27it/s]\n"
     ]
    },
    {
     "name": "stdout",
     "output_type": "stream",
     "text": [
      "[ Epoch 5, Train ] | Train-Loss:0.32406 | Train-Acc:0.85255 | Val-Acc:0.75781 | Precision:0.76020 | Recall:0.76410 | F1-Score:0.76215\n"
     ]
    },
    {
     "name": "stderr",
     "output_type": "stream",
     "text": [
      "100%|██████████| 1052/1052 [00:16<00:00, 62.25it/s]\n"
     ]
    },
    {
     "name": "stdout",
     "output_type": "stream",
     "text": [
      "[ Epoch 6, Train ] | Train-Loss:0.30459 | Train-Acc:0.86386 | Val-Acc:0.75651 | Precision:0.72606 | Recall:0.83590 | F1-Score:0.77712\n"
     ]
    },
    {
     "name": "stderr",
     "output_type": "stream",
     "text": [
      "100%|██████████| 1052/1052 [00:16<00:00, 62.55it/s]\n"
     ]
    },
    {
     "name": "stdout",
     "output_type": "stream",
     "text": [
      "[ Epoch 7, Train ] | Train-Loss:0.28717 | Train-Acc:0.87411 | Val-Acc:0.77474 | Precision:0.74165 | Recall:0.85385 | F1-Score:0.79380\n"
     ]
    },
    {
     "name": "stderr",
     "output_type": "stream",
     "text": [
      "100%|██████████| 1052/1052 [00:16<00:00, 62.76it/s]\n"
     ]
    },
    {
     "name": "stdout",
     "output_type": "stream",
     "text": [
      "[ Epoch 8, Train ] | Train-Loss:0.26414 | Train-Acc:0.88259 | Val-Acc:0.75000 | Precision:0.72098 | Recall:0.82821 | F1-Score:0.77088\n"
     ]
    },
    {
     "name": "stderr",
     "output_type": "stream",
     "text": [
      "100%|██████████| 1052/1052 [00:16<00:00, 62.55it/s]\n"
     ]
    },
    {
     "name": "stdout",
     "output_type": "stream",
     "text": [
      "[ Epoch 9, Train ] | Train-Loss:0.25668 | Train-Acc:0.88533 | Val-Acc:0.75651 | Precision:0.76364 | Recall:0.75385 | F1-Score:0.75871\n",
      "End evaluating!!!\n"
     ]
    }
   ],
   "source": [
    "trainer = Trainer(model_name=\"rnn\",\n",
    "                  model=rnn_model,\n",
    "                  epochs=epochs,\n",
    "                  train_dataloader=train_loader,\n",
    "                  val_dataloader=val_loader,\n",
    "                  criterion=criterion,\n",
    "                  optimizer=optimizer,\n",
    "                  lr_decay=lr_decay,\n",
    "                  lr_scheduler=lr_scheduler,\n",
    "                  device=device)\n",
    "\n",
    "trainer.train()"
   ]
  },
  {
   "cell_type": "markdown",
   "metadata": {},
   "source": [
    "## LSTM Training"
   ]
  },
  {
   "cell_type": "code",
   "execution_count": 59,
   "metadata": {
    "execution": {
     "iopub.execute_input": "2025-04-07T09:03:34.226836Z",
     "iopub.status.busy": "2025-04-07T09:03:34.226530Z",
     "iopub.status.idle": "2025-04-07T09:03:34.287451Z",
     "shell.execute_reply": "2025-04-07T09:03:34.286578Z",
     "shell.execute_reply.started": "2025-04-07T09:03:34.226804Z"
    },
    "trusted": true
   },
   "outputs": [
    {
     "name": "stderr",
     "output_type": "stream",
     "text": [
      "/usr/local/lib/python3.10/dist-packages/torch/optim/lr_scheduler.py:62: UserWarning: The verbose parameter is deprecated. Please use get_last_lr() to access the learning rate.\n",
      "  warnings.warn(\n"
     ]
    }
   ],
   "source": [
    "lstm_model = LSTM(None,\n",
    "                  embed_size=transformed_embedding.size(1),\n",
    "                  vocab_size=len(vocab[0]),\n",
    "                  hidden_dim=256)\n",
    "\n",
    "optimizer = torch.optim.Adam(lstm_model.parameters(), lr=5e-5, weight_decay=4e-5)\n",
    "\n",
    "device = torch.device(\"cuda\" if torch.cuda.is_available() else \"cpu\")\n",
    "criterion = torch.nn.BCEWithLogitsLoss().to(device)\n",
    "lr_scheduler = torch.optim.lr_scheduler.StepLR(optimizer, \n",
    "                                               step_size=8, \n",
    "                                               gamma=0.5, \n",
    "                                               verbose=True)\n",
    "epochs, lr_decay = 10, True"
   ]
  },
  {
   "cell_type": "code",
   "execution_count": 60,
   "metadata": {
    "execution": {
     "iopub.execute_input": "2025-04-07T09:03:34.288641Z",
     "iopub.status.busy": "2025-04-07T09:03:34.288314Z",
     "iopub.status.idle": "2025-04-07T09:08:12.995979Z",
     "shell.execute_reply": "2025-04-07T09:08:12.994766Z",
     "shell.execute_reply.started": "2025-04-07T09:03:34.288609Z"
    },
    "trusted": true
   },
   "outputs": [
    {
     "name": "stdout",
     "output_type": "stream",
     "text": [
      "total parameters: 8747998, trainable parameters: 8747998\n"
     ]
    },
    {
     "name": "stderr",
     "output_type": "stream",
     "text": [
      "100%|██████████| 1052/1052 [00:19<00:00, 52.67it/s]\n"
     ]
    },
    {
     "name": "stdout",
     "output_type": "stream",
     "text": [
      "[ Epoch 0, Train ] | Train-Loss:0.61058 | Train-Acc:0.73812 | Val-Acc:0.72005 | Precision:0.74373 | Recall:0.68462 | F1-Score:0.71295\n"
     ]
    },
    {
     "name": "stderr",
     "output_type": "stream",
     "text": [
      "100%|██████████| 1052/1052 [00:19<00:00, 52.60it/s]\n"
     ]
    },
    {
     "name": "stdout",
     "output_type": "stream",
     "text": [
      "[ Epoch 1, Train ] | Train-Loss:0.44231 | Train-Acc:0.81174 | Val-Acc:0.77865 | Precision:0.77638 | Recall:0.79231 | F1-Score:0.78426\n"
     ]
    },
    {
     "name": "stderr",
     "output_type": "stream",
     "text": [
      "100%|██████████| 1052/1052 [00:19<00:00, 52.68it/s]\n"
     ]
    },
    {
     "name": "stdout",
     "output_type": "stream",
     "text": [
      "[ Epoch 2, Train ] | Train-Loss:0.35754 | Train-Acc:0.84468 | Val-Acc:0.79427 | Precision:0.80851 | Recall:0.77949 | F1-Score:0.79373\n"
     ]
    },
    {
     "name": "stderr",
     "output_type": "stream",
     "text": [
      "100%|██████████| 1052/1052 [00:20<00:00, 52.51it/s]\n"
     ]
    },
    {
     "name": "stdout",
     "output_type": "stream",
     "text": [
      "[ Epoch 3, Train ] | Train-Loss:0.30640 | Train-Acc:0.86714 | Val-Acc:0.78776 | Precision:0.76960 | Recall:0.83077 | F1-Score:0.79901\n"
     ]
    },
    {
     "name": "stderr",
     "output_type": "stream",
     "text": [
      "100%|██████████| 1052/1052 [00:19<00:00, 52.91it/s]\n"
     ]
    },
    {
     "name": "stdout",
     "output_type": "stream",
     "text": [
      "[ Epoch 4, Train ] | Train-Loss:0.26964 | Train-Acc:0.88593 | Val-Acc:0.79688 | Precision:0.80952 | Recall:0.78462 | F1-Score:0.79687\n"
     ]
    },
    {
     "name": "stderr",
     "output_type": "stream",
     "text": [
      "100%|██████████| 1052/1052 [00:19<00:00, 53.01it/s]\n"
     ]
    },
    {
     "name": "stdout",
     "output_type": "stream",
     "text": [
      "[ Epoch 5, Train ] | Train-Loss:0.24226 | Train-Acc:0.90292 | Val-Acc:0.79948 | Precision:0.82065 | Recall:0.77436 | F1-Score:0.79683\n"
     ]
    },
    {
     "name": "stderr",
     "output_type": "stream",
     "text": [
      "100%|██████████| 1052/1052 [00:19<00:00, 52.94it/s]\n"
     ]
    },
    {
     "name": "stdout",
     "output_type": "stream",
     "text": [
      "[ Epoch 6, Train ] | Train-Loss:0.21996 | Train-Acc:0.91414 | Val-Acc:0.80078 | Precision:0.81600 | Recall:0.78462 | F1-Score:0.80000\n"
     ]
    },
    {
     "name": "stderr",
     "output_type": "stream",
     "text": [
      "100%|██████████| 1052/1052 [00:19<00:00, 52.60it/s]\n"
     ]
    },
    {
     "name": "stdout",
     "output_type": "stream",
     "text": [
      "[ Epoch 7, Train ] | Train-Loss:0.20208 | Train-Acc:0.92164 | Val-Acc:0.81120 | Precision:0.81330 | Recall:0.81538 | F1-Score:0.81434\n"
     ]
    },
    {
     "name": "stderr",
     "output_type": "stream",
     "text": [
      "100%|██████████| 1052/1052 [00:20<00:00, 52.46it/s]\n"
     ]
    },
    {
     "name": "stdout",
     "output_type": "stream",
     "text": [
      "[ Epoch 8, Train ] | Train-Loss:0.18223 | Train-Acc:0.93050 | Val-Acc:0.80078 | Precision:0.78147 | Recall:0.84359 | F1-Score:0.81134\n"
     ]
    },
    {
     "name": "stderr",
     "output_type": "stream",
     "text": [
      "100%|██████████| 1052/1052 [00:19<00:00, 52.93it/s]\n"
     ]
    },
    {
     "name": "stdout",
     "output_type": "stream",
     "text": [
      "[ Epoch 9, Train ] | Train-Loss:0.17482 | Train-Acc:0.93412 | Val-Acc:0.79167 | Precision:0.80105 | Recall:0.78462 | F1-Score:0.79275\n",
      "End evaluating!!!\n"
     ]
    }
   ],
   "source": [
    "trainer = Trainer(model_name=\"lstm\",\n",
    "                  model=lstm_model,\n",
    "                  epochs=epochs,\n",
    "                  train_dataloader=train_loader,\n",
    "                  val_dataloader=val_loader,\n",
    "                  criterion=criterion,\n",
    "                  optimizer=optimizer,\n",
    "                  lr_decay=lr_decay,\n",
    "                  lr_scheduler=lr_scheduler,\n",
    "                  device=device)\n",
    "\n",
    "trainer.train()"
   ]
  },
  {
   "cell_type": "markdown",
   "metadata": {},
   "source": [
    "# Ensemble Classifier"
   ]
  },
  {
   "cell_type": "code",
   "execution_count": 48,
   "metadata": {
    "execution": {
     "iopub.execute_input": "2025-04-07T08:48:24.280152Z",
     "iopub.status.busy": "2025-04-07T08:48:24.279890Z",
     "iopub.status.idle": "2025-04-07T08:48:24.290600Z",
     "shell.execute_reply": "2025-04-07T08:48:24.289730Z",
     "shell.execute_reply.started": "2025-04-07T08:48:24.280130Z"
    },
    "trusted": true
   },
   "outputs": [],
   "source": [
    "class EnsembleClassifier():\n",
    "    def __init__(self, rnn_weight_path,\n",
    "                       rnn_model,\n",
    "                       lstm_weight_path, \n",
    "                       lstm_model,\n",
    "                       ann_weight_path,\n",
    "                       ann_model,\n",
    "                       val_loader,\n",
    "                       device):\n",
    "        \"\"\"\n",
    "            model_weight_path: path to the saved model\n",
    "            _model: the model\n",
    "        \"\"\"\n",
    "\n",
    "        self.ann_model = self.load_pretrain(ann_weight_path, ann_model)\n",
    "        self.rnn_model = self.load_pretrain(rnn_weight_path, rnn_model)\n",
    "        self.lstm_model = self.load_pretrain(lstm_weight_path, lstm_model)\n",
    "\n",
    "        self.data_loader = val_loader\n",
    "        self.device = device\n",
    "        \n",
    "    def load_pretrain(self, weight_path, model):\n",
    "        state_dict = torch.load(weight_path, weights_only=True)\n",
    "        model.load_state_dict(state_dict)\n",
    "\n",
    "        return model\n",
    "\n",
    "    def round_preds(self, preds):\n",
    "        return torch.round(\n",
    "            torch.sigmoid(preds.squeeze(-1))\n",
    "        ).int()\n",
    "        \n",
    "    def batch_validate(self, preds, labels):\n",
    "        preds = torch.round(preds)\n",
    "        num_true_labels = (preds == labels).sum()\n",
    "\n",
    "        return num_true_labels / len(labels)\n",
    "\n",
    "    def acc_validate(self):\n",
    "        self.ann_model.eval()\n",
    "        self.rnn_model.eval()\n",
    "        self.lstm_model.eval()\n",
    "        \n",
    "        val_acc = 0\n",
    "        all_labels, all_preds = [], []\n",
    "        \n",
    "        with torch.no_grad():\n",
    "            for batch_data in self.data_loader:\n",
    "                inputs = batch_data[0].to(self.device)\n",
    "                labels = batch_data[1].to(self.device)\n",
    "                lengths = batch_data[2]\n",
    "\n",
    "                ann_preds = self.round_preds(self.ann_model(inputs, lengths))\n",
    "                rnn_preds = self.round_preds(self.rnn_model(inputs, lengths))\n",
    "                lstm_preds = self.round_preds(self.lstm_model(inputs, lengths))\n",
    "\n",
    "                preds = (ann_preds + rnn_preds + lstm_preds) / 3\n",
    "\n",
    "                all_labels.extend(labels.tolist())\n",
    "                all_preds.extend(preds.int().tolist())\n",
    "                val_acc += self.batch_validate(preds, labels)\n",
    "\n",
    "        self.labels = all_labels\n",
    "        self.preds = all_preds\n",
    "        print(f\"Classifier's accuracy: {val_acc / len(self.data_loader)}\")   \n",
    "        \n",
    "        print(\"Start evaluating model....\")\n",
    "        self.precision_recall_f1_validate(all_preds, all_labels)\n",
    "        \n",
    "        print(\"Start plotting confusion matrix....\")\n",
    "        self.confusion_mat_visualize(all_labels, all_preds)\n",
    "\n",
    "        print(\"End evaluating!!!\")\n",
    "\n",
    "    def confusion_mat_visualize(self, labels, preds):\n",
    "        conf_matrix = confusion_matrix(labels, preds)\n",
    "        \n",
    "        plt.figure(figsize=(7,6))\n",
    "        sns.set(font_scale = 1.5)\n",
    "         \n",
    "        ax = sns.heatmap(\n",
    "            conf_matrix,\n",
    "            annot=True,\n",
    "            fmt='d',\n",
    "            cbar_kws={\"shrink\": 0.8, \"aspect\": 30}\n",
    "        )\n",
    "         \n",
    "        ax.set_xlabel(\"Predicted\", labelpad=20)\n",
    "        ax.set_ylabel(\"Actual\", labelpad=20)\n",
    "        plt.show()\n",
    "\n",
    "    def precision_recall_f1_validate(self, labels, preds):\n",
    "        precision = precision_score(labels, preds)\n",
    "        recall = recall_score(labels, preds)\n",
    "        f1score = f1_score(labels, preds)\n",
    "         \n",
    "        print(f\"Precision = {precision.round(4)}\")\n",
    "        print(f\"Recall = {recall.round(4)}\")\n",
    "        print(f\"F1 Score = {f1score.round(4)}\")"
   ]
  },
  {
   "cell_type": "code",
   "execution_count": 61,
   "metadata": {
    "execution": {
     "iopub.execute_input": "2025-04-07T09:13:04.114300Z",
     "iopub.status.busy": "2025-04-07T09:13:04.113946Z",
     "iopub.status.idle": "2025-04-07T09:13:04.456866Z",
     "shell.execute_reply": "2025-04-07T09:13:04.456180Z",
     "shell.execute_reply.started": "2025-04-07T09:13:04.114274Z"
    },
    "trusted": true
   },
   "outputs": [
    {
     "name": "stdout",
     "output_type": "stream",
     "text": [
      "Classifier's accuracy: 0.828125\n",
      "Start evaluating model....\n",
      "Precision = 0.7128\n",
      "Recall = 0.9205\n",
      "F1 Score = 0.8035\n",
      "Start plotting confusion matrix....\n"
     ]
    },
    {
     "data": {
      "image/png": "[encoded data removed]",
      "text/plain": [
       "<Figure size 700x600 with 2 Axes>"
      ]
     },
     "metadata": {},
     "output_type": "display_data"
    },
    {
     "name": "stdout",
     "output_type": "stream",
     "text": [
      "End evaluating!!!\n"
     ]
    }
   ],
   "source": [
    "classifier = EnsembleClassifier(\n",
    "    \"/kaggle/working/rnn_e7.pt\",\n",
    "    rnn_model,\n",
    "    \"/kaggle/working/lstm_e7.pt\",\n",
    "    lstm_model,\n",
    "    \"/kaggle/working/ann_e5.pt\",\n",
    "    ann_model,\n",
    "    val_loader,\n",
    "    device\n",
    ")\n",
    "\n",
    "classifier.acc_validate()"
   ]
  }
 ],
 "metadata": {
  "kaggle": {
   "accelerator": "gpu",
   "dataSources": [],
   "dockerImageVersionId": 30918,
   "isGpuEnabled": true,
   "isInternetEnabled": true,
   "language": "python",
   "sourceType": "notebook"
  },
  "kernelspec": {
   "display_name": "Python 3",
   "language": "python",
   "name": "python3"
  },
  "language_info": {
   "codemirror_mode": {
    "name": "ipython",
    "version": 3
   },
   "file_extension": ".py",
   "mimetype": "text/x-python",
   "name": "python",
   "nbconvert_exporter": "python",
   "pygments_lexer": "ipython3",
   "version": "3.10.12"
  }
 },
 "nbformat": 4,
 "nbformat_minor": 4
}
